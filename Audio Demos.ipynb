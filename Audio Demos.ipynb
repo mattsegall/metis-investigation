{
 "cells": [
  {
   "cell_type": "code",
   "execution_count": 1,
   "id": "religious-crawford",
   "metadata": {},
   "outputs": [],
   "source": [
    "import sys"
   ]
  },
  {
   "cell_type": "code",
   "execution_count": 2,
   "id": "physical-yesterday",
   "metadata": {},
   "outputs": [],
   "source": [
    "sys.path.append(\"/Library/Frameworks/Python.framework/Versions/3.9/lib/python3.9/site-packages\")"
   ]
  },
  {
   "cell_type": "code",
   "execution_count": 3,
   "id": "focal-implement",
   "metadata": {},
   "outputs": [],
   "source": [
    "import numpy as np\n",
    "import matplotlib.pyplot as plt\n",
    "from scipy.io.wavfile import read, write\n",
    "from pydub import AudioSegment\n",
    "from pydub.playback import play\n",
    "import librosa\n",
    "import librosa.display\n",
    "\n",
    "from IPython.display import Audio\n",
    "from numpy.fft import fft, ifft\n",
    "import sys\n",
    "%matplotlib inline"
   ]
  },
  {
   "cell_type": "markdown",
   "id": "careful-veteran",
   "metadata": {},
   "source": [
    "## PyDub ##"
   ]
  },
  {
   "cell_type": "code",
   "execution_count": 4,
   "id": "collective-commercial",
   "metadata": {},
   "outputs": [],
   "source": [
    "#read in song\n",
    "clime_pt_2 = AudioSegment.from_wav('Audio_Samples/10 Clime Part Two.L.wav')"
   ]
  },
  {
   "cell_type": "code",
   "execution_count": 5,
   "id": "controversial-encyclopedia",
   "metadata": {},
   "outputs": [
    {
     "data": {
      "text/plain": [
       "505.32"
      ]
     },
     "execution_count": 5,
     "metadata": {},
     "output_type": "execute_result"
    }
   ],
   "source": [
    "#get duration\n",
    "clime_pt_2.duration_seconds"
   ]
  },
  {
   "cell_type": "code",
   "execution_count": 6,
   "id": "least-horizontal",
   "metadata": {},
   "outputs": [],
   "source": [
    "#slice audio\n",
    "seconds = 1000\n",
    "\n",
    "favorite_part = clime_pt_2[285*seconds:290*seconds]"
   ]
  },
  {
   "cell_type": "code",
   "execution_count": 7,
   "id": "processed-madison",
   "metadata": {},
   "outputs": [
    {
     "name": "stdout",
     "output_type": "stream",
     "text": [
      "Could not import the PyAudio C module '_portaudio'.\n"
     ]
    }
   ],
   "source": [
    "#playback\n",
    "play(favorite_part)"
   ]
  },
  {
   "cell_type": "code",
   "execution_count": 8,
   "id": "marked-endorsement",
   "metadata": {},
   "outputs": [
    {
     "name": "stdout",
     "output_type": "stream",
     "text": [
      "Could not import the PyAudio C module '_portaudio'.\n"
     ]
    }
   ],
   "source": [
    "#reverse, for some lolz\n",
    "favorite_reversed = favorite_part.reverse()\n",
    "play(favorite_reversed)"
   ]
  },
  {
   "cell_type": "code",
   "execution_count": 9,
   "id": "organized-marshall",
   "metadata": {},
   "outputs": [
    {
     "name": "stdout",
     "output_type": "stream",
     "text": [
      "Could not import the PyAudio C module '_portaudio'.\n"
     ]
    }
   ],
   "source": [
    "#crossfade for fun\n",
    "favorite_faded = favorite_part.fade_in(2*seconds).fade_out(2*seconds)\n",
    "play(favorite_faded)"
   ]
  },
  {
   "cell_type": "code",
   "execution_count": 10,
   "id": "raising-interview",
   "metadata": {},
   "outputs": [],
   "source": [
    "#convert to array of samples\n",
    "sound = clime_pt_2.set_frame_rate(16000)\n",
    "channel_sounds = sound.split_to_mono()\n",
    "samples = [s.get_array_of_samples() for s in channel_sounds]\n",
    "\n",
    "fp_arr = np.array(samples).T.astype(np.float32)"
   ]
  },
  {
   "cell_type": "code",
   "execution_count": 11,
   "id": "distinguished-christian",
   "metadata": {},
   "outputs": [
    {
     "data": {
      "text/plain": [
       "8085120"
      ]
     },
     "execution_count": 11,
     "metadata": {},
     "output_type": "execute_result"
    }
   ],
   "source": [
    "len(fp_arr)"
   ]
  },
  {
   "cell_type": "code",
   "execution_count": 12,
   "id": "electronic-absence",
   "metadata": {},
   "outputs": [
    {
     "data": {
      "text/plain": [
       "array([[-3.],\n",
       "       [-3.],\n",
       "       [-3.],\n",
       "       ...,\n",
       "       [ 0.],\n",
       "       [ 0.],\n",
       "       [ 0.]], dtype=float32)"
      ]
     },
     "execution_count": 12,
     "metadata": {},
     "output_type": "execute_result"
    }
   ],
   "source": [
    "fp_arr"
   ]
  },
  {
   "cell_type": "markdown",
   "id": "tender-compatibility",
   "metadata": {},
   "source": [
    "## Librosa ##"
   ]
  },
  {
   "cell_type": "code",
   "execution_count": 13,
   "id": "athletic-imaging",
   "metadata": {},
   "outputs": [
    {
     "name": "stdout",
     "output_type": "stream",
     "text": [
      "<class 'numpy.ndarray'> <class 'int'>\n"
     ]
    }
   ],
   "source": [
    "#load in audio\n",
    "clime_pt_2_path = 'Audio_Samples/10 Clime Part Two.L.wav'\n",
    "x , sr = librosa.load(clime_pt_2_path)\n",
    "print(type(x), type(sr))"
   ]
  },
  {
   "cell_type": "code",
   "execution_count": null,
   "id": "hungarian-ownership",
   "metadata": {},
   "outputs": [],
   "source": [
    "#we can also plot waveform in librosa\n",
    "plt.figure(figsize=(14, 5))\n",
    "librosa.display.waveplot(x, sr=sr)"
   ]
  },
  {
   "cell_type": "code",
   "execution_count": null,
   "id": "hawaiian-extraction",
   "metadata": {},
   "outputs": [],
   "source": [
    "#zero crossing for a segment, used heavily in speech recognition and MIR, associated with percussive musics\n",
    "n0 = 9000\n",
    "n1 = 9100\n",
    "plt.figure(figsize=(14, 5))\n",
    "plt.plot(x[n0:n1])\n",
    "plt.grid()"
   ]
  },
  {
   "cell_type": "code",
   "execution_count": null,
   "id": "random-petersburg",
   "metadata": {},
   "outputs": [],
   "source": [
    "# calculate zero crossings manually\n",
    "zero_crossings = librosa.zero_crossings(x[n0:n1], pad=False)\n",
    "print(sum(zero_crossings))"
   ]
  },
  {
   "cell_type": "code",
   "execution_count": null,
   "id": "advisory-toronto",
   "metadata": {},
   "outputs": [],
   "source": [
    "#or a spectrogram, showing presence of frequenices\n",
    "X = librosa.stft(x) #fourier transform\n",
    "Xdb = librosa.amplitude_to_db(abs(X))\n",
    "plt.figure(figsize=(14, 5))\n",
    "librosa.display.specshow(Xdb, sr=sr, x_axis='time', y_axis='hz') \n",
    "plt.colorbar()"
   ]
  },
  {
   "cell_type": "code",
   "execution_count": null,
   "id": "classical-mainstream",
   "metadata": {},
   "outputs": [],
   "source": [
    "#log\n",
    "plt.figure(figsize=(14, 5))\n",
    "librosa.display.specshow(Xdb, sr=sr, x_axis='time', y_axis='log')\n",
    "plt.colorbar()"
   ]
  },
  {
   "cell_type": "code",
   "execution_count": null,
   "id": "studied-reform",
   "metadata": {},
   "outputs": [],
   "source": [
    "#estimate tempo for song\n",
    "onset_env = librosa.onset.onset_strength(x, sr=sr)\n",
    "tempo = librosa.beat.tempo(onset_envelope=onset_env, sr=sr)\n",
    "tempo"
   ]
  },
  {
   "cell_type": "code",
   "execution_count": null,
   "id": "accomplished-fantasy",
   "metadata": {},
   "outputs": [],
   "source": [
    "#extract harmonic and percussive data\n",
    "harmonic, percussive = librosa.effects.hpss(x)\n",
    "\n",
    "#plot pitch classes\n",
    "chroma = librosa.feature.chroma_cqt(y=harmonic, sr=sr)\n",
    "plt.figure(figsize=(18,5))\n",
    "librosa.display.specshow(chroma, sr=sr, x_axis='time', y_axis='chroma', vmin=0, vmax=1)\n",
    "plt.title('Chromagram') \n",
    "plt.colorbar();"
   ]
  },
  {
   "cell_type": "code",
   "execution_count": null,
   "id": "surgical-treasury",
   "metadata": {},
   "outputs": [],
   "source": []
  },
  {
   "cell_type": "code",
   "execution_count": null,
   "id": "injured-neighbor",
   "metadata": {},
   "outputs": [],
   "source": []
  },
  {
   "cell_type": "code",
   "execution_count": null,
   "id": "prostate-omaha",
   "metadata": {},
   "outputs": [],
   "source": []
  }
 ],
 "metadata": {
  "kernelspec": {
   "display_name": "Python [conda env:metis] *",
   "language": "python",
   "name": "conda-env-metis-py"
  },
  "language_info": {
   "codemirror_mode": {
    "name": "ipython",
    "version": 3
   },
   "file_extension": ".py",
   "mimetype": "text/x-python",
   "name": "python",
   "nbconvert_exporter": "python",
   "pygments_lexer": "ipython3",
   "version": "3.8.6"
  }
 },
 "nbformat": 4,
 "nbformat_minor": 5
}
